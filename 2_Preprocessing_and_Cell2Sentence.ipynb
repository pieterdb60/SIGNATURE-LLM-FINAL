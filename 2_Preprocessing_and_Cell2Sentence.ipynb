{
  "cells": [
    {
      "cell_type": "markdown",
      "metadata": {},
      "source": [
        "# 2. Data Preprocessing & Converting to Cell2Sentence Format\n",
        "\n",
        "In this notebook, we will:\n",
        "1. Load a sample preprocessed single-cell dataset (PBMC 3k from Scanpy).\n",
        "2. Convert the default log1p data transformation (which uses the natural logarithm) to base 10.\n",
        "3. Convert the data into 'cell sentences' using Cell2Sentence.\n",
        "\n",
        "## Learning Objectives\n",
        "- Understand how to handle scRNA-seq data with AnnData.\n",
        "- Apply the data transformation to allow reverse encoding of cell sentences to transcriptome profiles.\n",
        "- Generate cell sentences with the top genes for each cell."
      ]
    },
    {
      "cell_type": "markdown",
      "metadata": {},
      "source": [
        "## 2.1. Load the PBMC3k dataset\n",
        "We'll use the built-in processed dataset from Scanpy. It contains ~2700 peripheral blood mononuclear cells.\n"
      ]
    },
    {
      "cell_type": "code",
      "execution_count": null,
      "id": "1a9a1a25",
      "metadata": {},
      "outputs": [],
      "source": [
        "import os\n",
        "import scanpy as sc\n",
        "import numpy as np\n",
        "import matplotlib.pyplot as plt\n",
        "import random\n",
        "from collections import Counter\n",
        "import pandas as pd\n",
        "\n",
        "# Cell2Sentence imports\n",
        "import cell2sentence as cs\n",
        "from cell2sentence.utils import benchmark_expression_conversion, reconstruct_expression_from_cell_sentence\n",
        "\n",
        "import tqdm as notebook_tqdm"
      ]
    },
    {
      "cell_type": "code",
      "execution_count": null,
      "id": "99b6bba3",
      "metadata": {},
      "outputs": [],
      "source": [
        "SEED = 1234\n",
        "random.seed(SEED)\n",
        "np.random.seed(SEED)"
      ]
    },
    {
      "cell_type": "code",
      "execution_count": null,
      "metadata": {},
      "outputs": [],
      "source": [
        "# Load dataset\n",
        "adata = sc.datasets.pbmc3k_processed()\n",
        "adata"
      ]
    },
    {
      "cell_type": "markdown",
      "metadata": {},
      "source": [
        "The AnnData object typically has:\n",
        "- `.X` for the gene expression matrix\n",
        "- `.obs` for cell metadata\n",
        "- `.var` for gene metadata\n"
      ]
    },
    {
      "cell_type": "code",
      "execution_count": null,
      "id": "e79d55b7",
      "metadata": {},
      "outputs": [],
      "source": [
        "adata.obs.head()"
      ]
    },
    {
      "cell_type": "markdown",
      "id": "a75a6238",
      "metadata": {},
      "source": [
        "Rename the adata.obs 'louvain' column to 'cell_type'"
      ]
    },
    {
      "cell_type": "code",
      "execution_count": null,
      "id": "e4c9959b",
      "metadata": {},
      "outputs": [],
      "source": [
        "adata.obs.rename(columns={'louvain': 'cell_type'}, inplace=True)"
      ]
    },
    {
      "cell_type": "markdown",
      "id": "d0336c79",
      "metadata": {},
      "source": [
        "Add a column 'organism' with the value 'Homo sapiens' to adata.obs"
      ]
    },
    {
      "cell_type": "code",
      "execution_count": null,
      "id": "ffdfd458",
      "metadata": {},
      "outputs": [],
      "source": [
        "adata.obs[\"organism\"] = \"Homo sapiens\""
      ]
    },
    {
      "cell_type": "code",
      "execution_count": null,
      "id": "ce1176b3",
      "metadata": {},
      "outputs": [],
      "source": [
        "adata.var.head()"
      ]
    },
    {
      "cell_type": "code",
      "execution_count": null,
      "id": "9bb1dc41",
      "metadata": {},
      "outputs": [],
      "source": [
        "sc.pl.umap(\n",
        "    adata, color=\"cell_type\", legend_loc=\"on data\", title=\"\", frameon=False\n",
        ")"
      ]
    },
    {
      "cell_type": "markdown",
      "id": "7bdca077",
      "metadata": {},
      "source": [
        "## Data preprocessing - Note\n",
        "Cell2Sentence only deviates from the standard preprocessing and normalization pipeline in that the log transformation is done with a base of 10 rather than natural logarithm.\n",
        "The PBMC 3k processed data set was transformed using the default log1p (which uses the natural logarithm), You can convert the values to base 10 by dividing by ln(10). If your AnnData object is stored in adata and the log1p’d data is in adata.X, you can do:\n",
        "\n",
        "````python\n",
        "import numpy as np\n",
        "adata.X = adata.X / np.log(10)\n",
        "````\n",
        "\n",
        "This works because for any value y = ln(x+1), you have log10(x+1) = ln(x+1) / ln(10). Make sure to verify that adata.X stores the transformed data and that any downstream analysis expects the new log scale.\n",
        "\n"
      ]
    },
    {
      "cell_type": "code",
      "execution_count": null,
      "id": "387b64bb",
      "metadata": {},
      "outputs": [],
      "source": [
        "adata.X = adata.X / np.log(10)"
      ]
    },
    {
      "cell_type": "markdown",
      "id": "c130f9a9",
      "metadata": {},
      "source": [
        "Set all negative values to 0.0"
      ]
    },
    {
      "cell_type": "code",
      "execution_count": null,
      "id": "b9c4fd16",
      "metadata": {},
      "outputs": [],
      "source": [
        "import numpy as np\n",
        "from scipy.sparse import issparse\n",
        "\n",
        "if issparse(adata.X):\n",
        "    adata.X.data[adata.X.data < 0] = 0.0\n",
        "else:\n",
        "    adata.X[adata.X < 0] = 0.0"
      ]
    },
    {
      "cell_type": "code",
      "execution_count": null,
      "id": "8758d940",
      "metadata": {},
      "outputs": [],
      "source": [
        "SAVE_PATH = \"./data/pbmc3k_final.h5ad\""
      ]
    },
    {
      "cell_type": "code",
      "execution_count": null,
      "id": "f4692148",
      "metadata": {},
      "outputs": [],
      "source": [
        "adata.write_h5ad(SAVE_PATH)"
      ]
    },
    {
      "cell_type": "markdown",
      "metadata": {},
      "source": [
        "## 2.3. Converting to Cell2Sentence (CSData)\n",
        "Now that we have preprocessed and normalized data loaded, we will perform the conversion to cell sentences. In this section, we will transform our AnnData object containing our single-cell dataset into a Cell2Sentence (C2S) dataset by calling the functions of the CSData class in the C2S code base. Full documentation for the functions of the CSData class can be found in the documentation page of C2S.\n",
        "\n",
        "First, we define which columns in adata.obs we would like to keep in our C2S dataset. The 'louvain' (Cell type) will be useful to keep, so we will define a list with this label:\n",
        "We'll transform the `AnnData` into C2S's `CSData` object, then create 'cell sentences' with the top genes in rank order."
      ]
    },
    {
      "cell_type": "code",
      "execution_count": null,
      "id": "e6e7281b",
      "metadata": {},
      "outputs": [],
      "source": [
        "adata.obs.head()"
      ]
    },
    {
      "cell_type": "code",
      "execution_count": null,
      "id": "4a9c71c7",
      "metadata": {},
      "outputs": [],
      "source": [
        "adata_obs_cols_to_keep = [\"cell_type\",\"organism\"]"
      ]
    },
    {
      "cell_type": "markdown",
      "id": "55e35a26",
      "metadata": {},
      "source": [
        "Now, we create a CSData object using the adata_to_arrow() class function of the CSData model class. This will return us a Huggingface PyArrow dataset (see https://huggingface.co/docs/datasets/en/about_arrow)"
      ]
    },
    {
      "cell_type": "code",
      "execution_count": null,
      "id": "fa19ff89",
      "metadata": {},
      "outputs": [],
      "source": [
        "# Create CSData object\n",
        "arrow_ds, vocabulary = cs.CSData.adata_to_arrow(\n",
        "    adata=adata, \n",
        "    random_state=SEED, \n",
        "    sentence_delimiter=' ',\n",
        "    label_col_names=adata_obs_cols_to_keep\n",
        ")"
      ]
    },
    {
      "cell_type": "markdown",
      "id": "21431a62",
      "metadata": {},
      "source": [
        "Let's examine the arrow dataset which was created:"
      ]
    },
    {
      "cell_type": "code",
      "execution_count": null,
      "id": "baca2853",
      "metadata": {},
      "outputs": [],
      "source": [
        "arrow_ds"
      ]
    },
    {
      "cell_type": "markdown",
      "id": "87b3adb8",
      "metadata": {},
      "source": [
        "We can see that our 2638 cells have now been converted into rows of a Dataset object. The metadata columns of our adata object have been preserved, and two new columns have been added: cell_name and cell_sentence. These columns contain unique cell identifiers as well as cell sentences, respectively. Each cell sentence consists of a string of space-separated gene names, in order of descending expression value. For more details about the cell sentence creation process, please refer to the C2S paper.\n",
        "\n",
        "We can look at one arrow dataset example as follows:"
      ]
    },
    {
      "cell_type": "code",
      "execution_count": null,
      "id": "0cf6a85b",
      "metadata": {},
      "outputs": [],
      "source": [
        "sample_idx = 0\n",
        "arrow_ds[sample_idx]"
      ]
    },
    {
      "cell_type": "markdown",
      "id": "f7bda8d0",
      "metadata": {},
      "source": [
        "When we print out an entire sample, we can see that it is a Python dictionary. The cell sentence contains a sentence of gene names ordered by descending expression level, giving a rank-based gene name representation of the cell. The rest of the columns of adata.obs which were specified also show up in the dataset sample.\n",
        "\n",
        "This dataset format will allow us to work with cell sentence datasets in an efficient manner. For more details on the cell sentence transformation, please review the Cell2Sentence paper: https://openreview.net/pdf?id=EWt5wsEdvc"
      ]
    },
    {
      "cell_type": "code",
      "execution_count": null,
      "id": "b928feda",
      "metadata": {},
      "outputs": [],
      "source": [
        "len(arrow_ds[sample_idx][\"cell_sentence\"].split(\" \"))  # Cell 0 has 1838 nonzero expressed genes, yielding a sentence of 1838 gene names separated by spaces."
      ]
    },
    {
      "cell_type": "markdown",
      "id": "ce2c1371",
      "metadata": {},
      "source": [
        "Next, we will examine the vocabulary which was generated:"
      ]
    },
    {
      "cell_type": "code",
      "execution_count": null,
      "id": "02dad5e4",
      "metadata": {},
      "outputs": [],
      "source": [
        "print(type(vocabulary))\n",
        "print(len(vocabulary))"
      ]
    },
    {
      "cell_type": "markdown",
      "id": "a9ca8acb",
      "metadata": {},
      "source": [
        "We can see that vocabulary is an OrderedDict of gene features, corresponding to the original 1838 genes in our adata object. The OrderedDict denotes the gene features present in our single-cell dataset, and also stores the number of cells that gene was expressed in."
      ]
    },
    {
      "cell_type": "code",
      "execution_count": null,
      "id": "521d7532",
      "metadata": {},
      "outputs": [],
      "source": [
        "list(vocabulary.items())[:10]"
      ]
    },
    {
      "cell_type": "markdown",
      "id": "05e44e12",
      "metadata": {},
      "source": [
        "## CSData creation\n",
        "Now that our AnnData object is converted into an arrow dataset, we can create a CSData object to wrap around our arrow dataset. This will help us manage the arrow dataset, keeping it saved on disk and out of memory until we need the data for inference or finetuning."
      ]
    },
    {
      "cell_type": "code",
      "execution_count": null,
      "id": "40fdfe6c",
      "metadata": {},
      "outputs": [],
      "source": [
        "c2s_save_dir = \"./c2s_api_testing\"  # C2S dataset will be saved into this directory\n",
        "c2s_save_name = \"PBMC_3K_tutorial1\"  # This will be the name of our C2S dataset on disk"
      ]
    },
    {
      "cell_type": "code",
      "execution_count": null,
      "id": "a1fb53e8",
      "metadata": {},
      "outputs": [],
      "source": [
        "csdata = cs.CSData.csdata_from_arrow(\n",
        "    arrow_dataset=arrow_ds, \n",
        "    vocabulary=vocabulary,\n",
        "    save_dir=c2s_save_dir,\n",
        "    save_name=c2s_save_name,\n",
        "    dataset_backend=\"arrow\"\n",
        ")"
      ]
    },
    {
      "cell_type": "code",
      "execution_count": null,
      "id": "799c4cac",
      "metadata": {},
      "outputs": [],
      "source": [
        "print(csdata)"
      ]
    },
    {
      "cell_type": "markdown",
      "id": "f4872cc0",
      "metadata": {},
      "source": [
        "The csdata object simply saves our arrow dataset onto disk and keeps a reference to the path. This wrapper class will work in concert with other classes such as CSModel and task functions to load the dataset whenever necessary, so that we avoid holding the C2S dataset in memory when it is not necessary.\n",
        "\n",
        "We can retrieve and view cell sentences by calling the get_sentence_strings() function:"
      ]
    },
    {
      "cell_type": "code",
      "execution_count": null,
      "id": "b08acb81",
      "metadata": {},
      "outputs": [],
      "source": [
        "cell_sentences_list = csdata.get_sentence_strings()"
      ]
    },
    {
      "cell_type": "code",
      "execution_count": null,
      "id": "cc7dbe52",
      "metadata": {},
      "outputs": [],
      "source": [
        "len(cell_sentences_list)"
      ]
    },
    {
      "cell_type": "code",
      "execution_count": null,
      "id": "f56dcd91",
      "metadata": {},
      "outputs": [],
      "source": [
        "def print_first_N_genes(cell_sentence_str: str, top_k_genes: int, delimiter: str = \" \"):\n",
        "    \"\"\"Helper function to print K genes of a cell sentence.\"\"\"\n",
        "    print(delimiter.join(cell_sentence_str.split(delimiter)[:top_k_genes]))"
      ]
    },
    {
      "cell_type": "code",
      "execution_count": null,
      "id": "26ef9e2c",
      "metadata": {},
      "outputs": [],
      "source": [
        "print_first_N_genes(cell_sentences_list[0], top_k_genes=100)"
      ]
    },
    {
      "cell_type": "code",
      "execution_count": null,
      "id": "144b9623",
      "metadata": {},
      "outputs": [],
      "source": [
        "print_first_N_genes(cell_sentences_list[1], top_k_genes=100)"
      ]
    },
    {
      "cell_type": "markdown",
      "id": "9a89abe9",
      "metadata": {},
      "source": [
        "## Cell Sentence Transformation Benchmarking\n",
        "We have successfully converted our single-cell dataset into cell sentences using the conversion functions, however it would be useful to know how well the conversion did, and how much expression information was lost when we switched to a rank ordering of genes rather than exact expression values.\n",
        "\n",
        "In the C2S paper, a strong linear relationship was found between the log of the rank of a gene and its normalized expression value. We can similarly examine our rank transformation and reconstruction ability of the original expression by calling a rank transformation benchmarking utility function. This function will:\n",
        "\n",
        "Fit a linear model on the ranks and expression of the original data, which can be used to reconstruct expression from rank\n",
        "Save plots of log rank vs log expression and log expression vs reconstructed expression from rank\n",
        "First, we define a path where the plots for the benchmarking and reconstruction will be saved:"
      ]
    },
    {
      "cell_type": "code",
      "execution_count": null,
      "id": "69466de4",
      "metadata": {},
      "outputs": [],
      "source": [
        "output_path = os.path.join(c2s_save_dir, c2s_save_name)\n",
        "output_path"
      ]
    },
    {
      "cell_type": "code",
      "execution_count": null,
      "id": "9474a49f",
      "metadata": {},
      "outputs": [],
      "source": [
        "transformation_benchmarking_save_name = \"inverse_transformation_testing_tutorial_2\""
      ]
    },
    {
      "cell_type": "markdown",
      "id": "8d56d04c",
      "metadata": {},
      "source": [
        "We can call the benchmarking function with our output directory, as well as the normalized expression of our AnnData object. To avoid benchmarking on too many data points, we set a sample_size of cells to benchmark the rank transformation on 1024."
      ]
    },
    {
      "cell_type": "code",
      "execution_count": null,
      "id": "bb17b413",
      "metadata": {},
      "outputs": [],
      "source": [
        "from scipy.sparse import csr_matrix\n",
        "\n",
        "# Convert adata.X to a sparse matrix\n",
        "sparse_matrix = csr_matrix(adata.X)\n",
        "\n",
        "benchmark_expression_conversion(\n",
        "    benchmark_output_dir=output_path,\n",
        "    save_name=transformation_benchmarking_save_name,\n",
        "    normalized_expression_matrix=sparse_matrix,\n",
        "    sample_size=1024,\n",
        ")"
      ]
    },
    {
      "cell_type": "markdown",
      "id": "938f46af",
      "metadata": {},
      "source": [
        "Now, we can retrieve the slope and intercept of the linear model which was fit to predict expression from rank"
      ]
    },
    {
      "cell_type": "code",
      "execution_count": null,
      "id": "aae80195",
      "metadata": {},
      "outputs": [],
      "source": [
        "metrics_df = pd.read_csv(os.path.join(output_path, transformation_benchmarking_save_name + \"_benchmark\", \"c2s_transformation_metrics.csv\"))\n",
        "metrics_df.shape"
      ]
    },
    {
      "cell_type": "code",
      "execution_count": null,
      "id": "4612e5bf",
      "metadata": {},
      "outputs": [],
      "source": [
        "metrics_df"
      ]
    },
    {
      "cell_type": "markdown",
      "id": "f68225f9",
      "metadata": {},
      "source": [
        "We can see here the slope and intercept of the linear model which was fit on the log rank versus normalized expression on our sample of cells. Furthermore, we can see correlation statistics of the inverse reconstruction, where the linear model predicts the original expression based on the rank of the gene.\n",
        "\n",
        "We can see that the linear model achieves 0.88 R^2. This indicates that most of the variance in the data is preserved when converting to rank-ordered cell sentences and then recovering the expression from rank. This allows us to utilize cell sentences and LLMs without worry about losing too much information when converting back to expression."
      ]
    },
    {
      "cell_type": "code",
      "execution_count": null,
      "id": "04fd2153",
      "metadata": {},
      "outputs": [],
      "source": [
        "slope = metrics_df.iloc[0][\"slope\"]\n",
        "intercept = metrics_df.iloc[0][\"intercept\"]\n",
        "print(\"slope:\", slope)\n",
        "print(\"intercept:\", intercept)"
      ]
    },
    {
      "cell_type": "markdown",
      "id": "4e3fa8eb",
      "metadata": {},
      "source": [
        "## Reconstruct Cell Expression From Cell Sentences\n",
        "To further see the ability of the linear model to reconstruct original gene expression from rank in the cell sentences, in this section we will reconstruct expression vectors from cell sentences and visualize them against the original data.\n",
        "\n",
        "First, we need to create a list of the gene names in our vocabulary. This will determine the ordering of genes in the expression vector we reconstruct:"
      ]
    },
    {
      "cell_type": "code",
      "execution_count": null,
      "id": "7f387dba",
      "metadata": {},
      "outputs": [],
      "source": [
        "vocab_list = list(vocabulary.keys())\n",
        "print(len(vocab_list))\n",
        "vocab_list[:4]"
      ]
    },
    {
      "cell_type": "markdown",
      "id": "74dde704",
      "metadata": {},
      "source": [
        "Now, we will first reconstruct a single expression vector:"
      ]
    },
    {
      "cell_type": "code",
      "execution_count": null,
      "id": "995517e3",
      "metadata": {},
      "outputs": [],
      "source": [
        "print(len(cell_sentences_list))\n",
        "print_first_N_genes(cell_sentences_list[0], top_k_genes=100)"
      ]
    },
    {
      "cell_type": "code",
      "execution_count": null,
      "id": "51ddc43b",
      "metadata": {},
      "outputs": [],
      "source": [
        "expression_vector = reconstruct_expression_from_cell_sentence(\n",
        "    cell_sentence_str=cell_sentences_list[0],\n",
        "    delimiter=\" \",\n",
        "    vocab_list=vocab_list,\n",
        "    slope=slope,\n",
        "    intercept=intercept,\n",
        ")"
      ]
    },
    {
      "cell_type": "code",
      "execution_count": null,
      "id": "914003a1",
      "metadata": {},
      "outputs": [],
      "source": [
        "print(type(expression_vector))\n",
        "print(expression_vector.shape)\n",
        "print(expression_vector.dtype)"
      ]
    },
    {
      "cell_type": "code",
      "execution_count": null,
      "id": "b7bf8e2a",
      "metadata": {},
      "outputs": [],
      "source": [
        "expression_vector"
      ]
    },
    {
      "cell_type": "code",
      "execution_count": null,
      "id": "bdb078db",
      "metadata": {},
      "outputs": [],
      "source": [
        "expression_vector.sum()"
      ]
    },
    {
      "cell_type": "code",
      "execution_count": null,
      "id": "c60208b8",
      "metadata": {},
      "outputs": [],
      "source": [
        "print(len(cell_sentences_list[0].split(\" \")))\n",
        "print(np.nonzero(expression_vector)[0].shape)"
      ]
    },
    {
      "cell_type": "markdown",
      "id": "66d6db14",
      "metadata": {},
      "source": [
        "We can see that the function reconstruct_expression_from_cell_sentence() has performed the inverse reconstruction on the cell sentence, using the rank of each gene in the cell sentence to predict its original expression using the linear model we fitted earlier:\n",
        "\n",
        "- predicted_expression = intercept + (slope * log(rank_of_gene))\n",
        "\n",
        "We can now repeat this and reconstruct the entire original dataset:"
      ]
    },
    {
      "cell_type": "code",
      "execution_count": null,
      "id": "8eb9dedf",
      "metadata": {},
      "outputs": [],
      "source": [
        "from tqdm import tqdm\n",
        "\n",
        "all_reconstructed_expression_vectors = []\n",
        "for idx in tqdm(range(len(cell_sentences_list))):\n",
        "    expression_vector = reconstruct_expression_from_cell_sentence(\n",
        "        cell_sentence_str=cell_sentences_list[idx],\n",
        "        delimiter=\" \",\n",
        "        vocab_list=vocab_list,\n",
        "        slope=slope,\n",
        "        intercept=intercept,\n",
        "    )\n",
        "    all_reconstructed_expression_vectors.append(expression_vector)\n",
        "\n",
        "all_reconstructed_expression_vectors = np.stack(all_reconstructed_expression_vectors)"
      ]
    },
    {
      "cell_type": "code",
      "execution_count": null,
      "id": "df825d55",
      "metadata": {},
      "outputs": [],
      "source": [
        "all_reconstructed_expression_vectors.shape"
      ]
    },
    {
      "cell_type": "markdown",
      "id": "f46a6d17",
      "metadata": {},
      "source": [
        "Let's now make a new AnnData object, copying the .obs and .var from our original adata, but putting in our reconstructed expression vectors"
      ]
    },
    {
      "cell_type": "code",
      "execution_count": null,
      "id": "0b75b345",
      "metadata": {},
      "outputs": [],
      "source": [
        "import scipy\n",
        "\n",
        "all_reconstructed_expression_vectors = scipy.sparse.csr_array(all_reconstructed_expression_vectors)\n",
        "all_reconstructed_expression_vectors"
      ]
    },
    {
      "cell_type": "code",
      "execution_count": null,
      "id": "71f38138",
      "metadata": {},
      "outputs": [],
      "source": [
        "import anndata\n",
        "\n",
        "reconstructed_adata = anndata.AnnData(\n",
        "    X=all_reconstructed_expression_vectors,\n",
        "    obs=adata.obs.copy(),\n",
        "    var=adata.var.copy()\n",
        ")\n",
        "reconstructed_adata"
      ]
    },
    {
      "cell_type": "markdown",
      "id": "a5b96aff",
      "metadata": {},
      "source": [
        "Quickly verify that the original adata.var gene list ordering matches the vocab_list which we reconstructed vectors with:"
      ]
    },
    {
      "cell_type": "code",
      "execution_count": null,
      "id": "be1896b3",
      "metadata": {},
      "outputs": [],
      "source": [
        "adata.var.head()"
      ]
    },
    {
      "cell_type": "code",
      "execution_count": null,
      "id": "9dd2e0dc",
      "metadata": {},
      "outputs": [],
      "source": [
        "vocab_list[:5]"
      ]
    },
    {
      "cell_type": "markdown",
      "id": "d3f9b14d",
      "metadata": {},
      "source": [
        "## Plotting Reconstructed Expression Vectors\n",
        "Now we will plot original data and reconstructed expression vectors side by side, to verify that the cell sentence transformation has preserved most of the original variance of the data.\n",
        "\n",
        "First, we will remove the extra attributes of our original adata object, since we will need to create a new joint UMAP."
      ]
    },
    {
      "cell_type": "code",
      "execution_count": null,
      "id": "9e4c29f6",
      "metadata": {},
      "outputs": [],
      "source": [
        "del adata.uns\n",
        "del adata.obsm\n",
        "del adata.varm\n",
        "del adata.obsp"
      ]
    },
    {
      "cell_type": "code",
      "execution_count": null,
      "id": "63335ee0",
      "metadata": {},
      "outputs": [],
      "source": [
        "adata"
      ]
    },
    {
      "cell_type": "code",
      "execution_count": null,
      "id": "1c9d9768",
      "metadata": {},
      "outputs": [],
      "source": [
        "adata.obs[\"c2s_data_label\"] = [\"Original Data\"] * adata.obs.shape[0]\n",
        "reconstructed_adata.obs[\"c2s_data_label\"] = [\"Reconstructed From Cell Sentences\"] * reconstructed_adata.obs.shape[0]"
      ]
    },
    {
      "cell_type": "code",
      "execution_count": null,
      "id": "34619c72",
      "metadata": {},
      "outputs": [],
      "source": [
        "combined_adata = anndata.concat([adata, reconstructed_adata], axis=0)\n",
        "combined_adata"
      ]
    },
    {
      "cell_type": "code",
      "execution_count": null,
      "id": "d26a9741",
      "metadata": {},
      "outputs": [],
      "source": [
        "combined_adata.obs_names_make_unique()"
      ]
    },
    {
      "cell_type": "code",
      "execution_count": null,
      "id": "f7e1a8e8",
      "metadata": {},
      "outputs": [],
      "source": [
        "combined_adata.var = adata.var.copy()"
      ]
    },
    {
      "cell_type": "code",
      "execution_count": null,
      "id": "52ab03a3",
      "metadata": {},
      "outputs": [],
      "source": [
        "combined_adata.obs = combined_adata.obs[[\"cell_type\", \"c2s_data_label\"]]\n"
      ]
    },
    {
      "cell_type": "code",
      "execution_count": null,
      "id": "f360c23f",
      "metadata": {},
      "outputs": [],
      "source": [
        "combined_adata"
      ]
    },
    {
      "cell_type": "markdown",
      "id": "8b54ebbf",
      "metadata": {},
      "source": [
        "We can now run PCA, Scanpy's neighbors algorithm, and then the UMAP algorithm:"
      ]
    },
    {
      "cell_type": "code",
      "execution_count": null,
      "id": "780e6079",
      "metadata": {},
      "outputs": [],
      "source": [
        "sc.tl.pca(combined_adata)"
      ]
    },
    {
      "cell_type": "code",
      "execution_count": null,
      "id": "a71a2b82",
      "metadata": {},
      "outputs": [],
      "source": [
        "sc.pp.neighbors(combined_adata)"
      ]
    },
    {
      "cell_type": "code",
      "execution_count": null,
      "id": "0e9632e1",
      "metadata": {},
      "outputs": [],
      "source": [
        "sc.tl.umap(combined_adata)"
      ]
    },
    {
      "cell_type": "code",
      "execution_count": null,
      "id": "c8d72f31",
      "metadata": {},
      "outputs": [],
      "source": [
        "combined_adata"
      ]
    },
    {
      "cell_type": "code",
      "execution_count": null,
      "id": "d7fd7e9f",
      "metadata": {},
      "outputs": [],
      "source": [
        "combined_adata[combined_adata.obs[\"c2s_data_label\"] == \"Reconstructed From Cell Sentences\", :]"
      ]
    },
    {
      "cell_type": "code",
      "execution_count": null,
      "id": "a505bf80",
      "metadata": {},
      "outputs": [],
      "source": [
        "fig, (ax1, ax2) = plt.subplots(1, 2, figsize=(15, 4.5))\n",
        "sc.pl.umap(\n",
        "    combined_adata[combined_adata.obs[\"c2s_data_label\"] == \"Original Data\", :],\n",
        "    color=\"cell_type\",\n",
        "    size=8,\n",
        "    title=\"Original PBMC 3k Data\",\n",
        "    show=False,\n",
        "    ax=ax1\n",
        ")\n",
        "sc.pl.umap(\n",
        "    combined_adata[combined_adata.obs[\"c2s_data_label\"] == \"Reconstructed From Cell Sentences\", :],\n",
        "    color=\"cell_type\",\n",
        "    size=8,\n",
        "    title=\"Reconstructed PBMC 3k Data\",\n",
        "    show=False,\n",
        "    ax=ax2\n",
        ")\n",
        "plt.tight_layout()\n",
        "plt.show()\n",
        "plt.close()\n",
        "\n",
        "sc.pl.umap(\n",
        "    combined_adata[combined_adata.obs[\"c2s_data_label\"] == \"Reconstructed From Cell Sentences\", :],\n",
        "    color=\"cell_type\",\n",
        "    size=8,\n",
        "    title=\"Reconstructed From Cell Sentences\",\n",
        "    show=False,\n",
        "    ax=ax2\n",
        ")\n",
        "plt.tight_layout()\n",
        "plt.show()\n",
        "plt.close()"
      ]
    },
    {
      "cell_type": "markdown",
      "metadata": {},
      "source": [
        "Now our data is ready for LLM-based annotation or other tasks in the next notebook.\n",
        "\n",
        "[Go to Notebook 3 →](./3_Annotation_with_LLM.ipynb)"
      ]
    }
  ],
  "metadata": {
    "kernelspec": {
      "display_name": "cell2sentence_env",
      "language": "python",
      "name": "python3"
    },
    "language_info": {
      "codemirror_mode": {
        "name": "ipython",
        "version": 3
      },
      "file_extension": ".py",
      "mimetype": "text/x-python",
      "name": "python",
      "nbconvert_exporter": "python",
      "pygments_lexer": "ipython3",
      "version": "3.8.20"
    },
    "name": "Preprocessing_and_Cell2Sentence"
  },
  "nbformat": 4,
  "nbformat_minor": 5
}
