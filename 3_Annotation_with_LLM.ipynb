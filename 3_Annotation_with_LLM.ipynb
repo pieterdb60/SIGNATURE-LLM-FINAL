{
  "cells": [
    {
      "cell_type": "markdown",
      "metadata": {},
      "source": [
        "# 3. Cell Type Annotation using a Pre-Trained Cell2Sentence Model\n",
        "\n",
        "In this notebook, we'll:\n",
        "1. Load a pre-trained C2S model from the HuggingFace Hub.\n",
        "2. Use the model to predict cell types based on our generated cell sentences.\n",
        "3. Integrate these predictions back into AnnData.\n",
        "\n",
        "## Learning Objectives\n",
        "- Learn how to load a pre-trained LLM for single-cell data.\n",
        "- Automatically annotate PBMC cells.\n",
        "- Assess annotation quality by comparing known marker genes."
      ]
    },
    {
      "cell_type": "code",
      "execution_count": null,
      "metadata": {},
      "outputs": [],
      "source": [
        "import torch\n",
        "import os\n",
        "import random\n",
        "import numpy as np\n",
        "\n",
        "# Cell2Sentence imports\n",
        "import cell2sentence as cs\n",
        "\n",
        "# Single-cell libraries\n",
        "import anndata\n",
        "import scanpy as sc\n",
        "\n",
        "import tqdm as notebook_tqdm"
      ]
    },
    {
      "cell_type": "code",
      "execution_count": null,
      "id": "945976cb",
      "metadata": {},
      "outputs": [],
      "source": [
        "SEED = 1234\n",
        "random.seed(SEED)\n",
        "np.random.seed(SEED)"
      ]
    },
    {
      "cell_type": "code",
      "execution_count": null,
      "id": "d9d48576",
      "metadata": {},
      "outputs": [],
      "source": [
        "DATA_PATH = \"./data/pbmc3k_final.h5ad\"\n",
        "adata = anndata.read_h5ad(DATA_PATH)"
      ]
    },
    {
      "cell_type": "code",
      "execution_count": null,
      "id": "a2e9edca",
      "metadata": {},
      "outputs": [],
      "source": [
        "adata"
      ]
    },
    {
      "cell_type": "markdown",
      "id": "0e1abba2",
      "metadata": {},
      "source": [
        "### Converting to Cell2Sentence (CSData)"
      ]
    },
    {
      "cell_type": "code",
      "execution_count": null,
      "id": "b3a781ee",
      "metadata": {},
      "outputs": [],
      "source": [
        "adata_obs_cols_to_keep = [\"cell_type\",\"organism\"]"
      ]
    },
    {
      "cell_type": "code",
      "execution_count": null,
      "id": "625f8224",
      "metadata": {},
      "outputs": [],
      "source": [
        "# Create CSData object\n",
        "arrow_ds, vocabulary = cs.CSData.adata_to_arrow(\n",
        "    adata=adata, \n",
        "    random_state=SEED, \n",
        "    sentence_delimiter=' ',\n",
        "    label_col_names=adata_obs_cols_to_keep\n",
        ")"
      ]
    },
    {
      "cell_type": "code",
      "execution_count": null,
      "id": "5b317cd6",
      "metadata": {},
      "outputs": [],
      "source": [
        "arrow_ds"
      ]
    },
    {
      "cell_type": "markdown",
      "id": "5085abc1",
      "metadata": {},
      "source": [
        "For this exercise we will consider the top 100 genes of the cell sentences"
      ]
    },
    {
      "cell_type": "code",
      "execution_count": null,
      "id": "e6bddac8",
      "metadata": {},
      "outputs": [],
      "source": [
        "k = 100  # replace with your desired number of genes\n",
        "\n",
        "arrow_ds = arrow_ds.map(lambda x: {\"cell_sentence\": \" \".join(x[\"cell_sentence\"].split()[:k])})"
      ]
    },
    {
      "cell_type": "code",
      "execution_count": null,
      "id": "84f1ce93",
      "metadata": {},
      "outputs": [],
      "source": [
        "sample_idx = 2000\n",
        "len(arrow_ds[sample_idx]['cell_sentence'].split())"
      ]
    },
    {
      "cell_type": "code",
      "execution_count": null,
      "id": "a8053fef",
      "metadata": {},
      "outputs": [],
      "source": [
        "c2s_save_dir = \"./c2s_api_testing\"  # C2S dataset will be saved into this directory\n",
        "c2s_save_name = \"PBMC_3K_tutorial2\"  # This will be the name of our C2S dataset on disk"
      ]
    },
    {
      "cell_type": "code",
      "execution_count": null,
      "id": "75867809",
      "metadata": {},
      "outputs": [],
      "source": [
        "cs_data = cs.CSData.csdata_from_arrow(\n",
        "    arrow_dataset=arrow_ds, \n",
        "    vocabulary=vocabulary,\n",
        "    save_dir=c2s_save_dir,\n",
        "    save_name=c2s_save_name,\n",
        "    dataset_backend=\"arrow\"\n",
        ")"
      ]
    },
    {
      "cell_type": "code",
      "execution_count": null,
      "id": "0eb7d0bd",
      "metadata": {},
      "outputs": [],
      "source": [
        "#dir(cs_data)"
      ]
    },
    {
      "cell_type": "code",
      "execution_count": null,
      "id": "aec503cf",
      "metadata": {},
      "outputs": [],
      "source": [
        "#cs_data.get_sentence_strings()"
      ]
    },
    {
      "cell_type": "markdown",
      "metadata": {},
      "source": [
        "## 3.1. Load a Pre-trained Model\n",
        "We can specify a model from the Hugging Face Hub. For a smaller/faster model:\n",
        "```\n",
        "model_name = \"vandijklab/pythia-160m-c2s\"\n",
        "```\n",
        "For a more powerful ~410M parameter model:\n",
        "```\n",
        "model_name = \"vandijklab/C2S-Pythia-410m-cell-type-prediction\"\n",
        "```"
      ]
    },
    {
      "cell_type": "code",
      "execution_count": null,
      "metadata": {},
      "outputs": [],
      "source": [
        "#model_name = \"vandijklab/pythia-160m-c2s\"\n",
        "model_name = \"vandijklab/C2S-Pythia-410m-cell-type-prediction\"\n",
        "\n",
        "save_dir = \"models\"  # local folder to store the downloaded model\n",
        "\n",
        "cs_model = cs.csmodel.CSModel(\n",
        "    model_name,\n",
        "    save_dir=save_dir,\n",
        "    save_name=\"cs_model\"\n",
        ")\n",
        "print(\"Model loaded successfully.\")"
      ]
    },
    {
      "cell_type": "markdown",
      "metadata": {},
      "source": [
        "## 3.2. Predict Cell Types\n",
        "We'll use a built-in function to predict labels for our dataset. This function will take each cell's top genes (as a sentence) and produce a text label for the cell type.\n",
        "\n",
        "Note: This step can take a few minutes if you're on CPU, but the 160M model is typically manageable."
      ]
    },
    {
      "cell_type": "code",
      "execution_count": null,
      "metadata": {},
      "outputs": [],
      "source": [
        "# Ensure the 'organism' key is provided if required by the function\n",
        "pred_labels = cs.tasks.predict_cell_types_of_data(\n",
        "    cs_data,\n",
        "    cs_model,\n",
        "    n_genes=100,  # must match how we created the sentences\n",
        ")\n",
        "pred_labels[:10]"
      ]
    },
    {
      "cell_type": "code",
      "execution_count": null,
      "id": "df0d7393",
      "metadata": {},
      "outputs": [],
      "source": [
        "adata"
      ]
    },
    {
      "cell_type": "markdown",
      "metadata": {},
      "source": [
        "We have a list of cell type predictions for each cell. Let's store them in the AnnData object."
      ]
    },
    {
      "cell_type": "code",
      "execution_count": null,
      "metadata": {},
      "outputs": [],
      "source": [
        "# Use the existing AnnData object loaded earlier (from DATA_PATH)\n",
        "\n",
        "adata.obs['C2S_predicted_celltype'] = pred_labels\n",
        "adata.obs['C2S_predicted_celltype'].value_counts()"
      ]
    },
    {
      "cell_type": "markdown",
      "metadata": {},
      "source": [
        "Check the distribution of predicted cell types. For PBMC data, you might see T cell subsets, B cells, monocytes, etc."
      ]
    },
    {
      "cell_type": "markdown",
      "metadata": {},
      "source": [
        "## 3.3. Inspect Example Predictions\n",
        "We can pick a few cells of a predicted type and look at their top genes. For example, if the model predicted `NK cell` for cell index 1, let's see if `NKG7, GZMB, PRF1` are indeed at the top."
      ]
    },
    {
      "cell_type": "code",
      "execution_count": null,
      "metadata": {},
      "outputs": [],
      "source": [
        "cell_idx = 1773  # arbitrary example\n",
        "predicted_type = adata.obs['C2S_predicted_celltype'][cell_idx]\n",
        "print(\"Cell index:\", cell_idx)\n",
        "print(\"Predicted type:\", predicted_type)\n",
        "cell_type = adata.obs[\"cell_type\"][cell_idx]\n",
        "print(\"Cell type:\\n\", cell_type)"
      ]
    },
    {
      "cell_type": "code",
      "execution_count": null,
      "id": "3b083596",
      "metadata": {},
      "outputs": [],
      "source": [
        "SAVE_PATH = \"./data/pbmc3k_410m_predictions.h5ad\""
      ]
    },
    {
      "cell_type": "code",
      "execution_count": null,
      "id": "e8915214",
      "metadata": {},
      "outputs": [],
      "source": [
        "adata.write_h5ad(SAVE_PATH)"
      ]
    },
    {
      "cell_type": "code",
      "execution_count": null,
      "id": "a34842df",
      "metadata": {},
      "outputs": [],
      "source": [
        "adata.obs.head(50)"
      ]
    },
    {
      "cell_type": "markdown",
      "metadata": {},
      "source": [
        "Compare the top genes in the sentence with known markers for that predicted type. This is a quick validation that the model is leveraging real biological signals.\n",
        "\n",
        "## Exercise:\n",
        "1. Select different cells from `adata.obs['C2S_predicted_celltype']` categories.\n",
        "2. Check if the top genes match known marker genes for that type.\n",
        "3. Generate a UMAP (by standard scRNA-seq workflow) and color cells by predicted labels to visualize.\n"
      ]
    },
    {
      "cell_type": "markdown",
      "metadata": {},
      "source": [
        "### (Optional) UMAP Visualization\n",
        "Let's do a quick typical scRNA-seq analysis to see how predicted labels cluster.\n"
      ]
    },
    {
      "cell_type": "code",
      "execution_count": null,
      "metadata": {},
      "outputs": [],
      "source": [
        "# Filtered data is already in adata.\n",
        "# We'll do a standard pipeline: log-transform, PCA, neighbors, UMAP.\n",
        "#sc.pp.normalize_total(adata, target_sum=1e4)\n",
        "#sc.pp.log1p(adata)\n",
        "sc.pp.highly_variable_genes(adata, n_top_genes=2000)\n",
        "adata = adata[:, adata.var.highly_variable]\n",
        "\n",
        "sc.pp.scale(adata, max_value=10)\n",
        "sc.tl.pca(adata, svd_solver='arpack')\n",
        "sc.pp.neighbors(adata, n_neighbors=10, n_pcs=20)\n",
        "sc.tl.umap(adata)\n",
        "\n",
        "sc.pl.umap(adata, color=[\"C2S_predicted_celltype\"], wspace=0.4, ncols=1)\n"
      ]
    },
    {
      "cell_type": "markdown",
      "metadata": {},
      "source": [
        "You should see clusters that (hopefully) align with typical PBMC subsets. The predicted labels from the LLM can be visually inspected on the UMAP plot.\n",
        "\n",
        "## Next Steps\n",
        "[Go to Notebook 4 →](./4_Finetuning_on_New_Datasets.ipynb) to learn about generating synthetic cells, fine-tuning, and more advanced use cases."
      ]
    }
  ],
  "metadata": {
    "kernelspec": {
      "display_name": "cell2sentence_env",
      "language": "python",
      "name": "python3"
    },
    "language_info": {
      "codemirror_mode": {
        "name": "ipython",
        "version": 3
      },
      "file_extension": ".py",
      "mimetype": "text/x-python",
      "name": "python",
      "nbconvert_exporter": "python",
      "pygments_lexer": "ipython3",
      "version": "3.8.20"
    },
    "name": "Annotation_with_LLM"
  },
  "nbformat": 4,
  "nbformat_minor": 5
}
