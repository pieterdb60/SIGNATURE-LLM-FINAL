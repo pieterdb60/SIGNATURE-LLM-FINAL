{
 "cells": [
  {
   "cell_type": "markdown",
   "id": "1e61645c",
   "metadata": {
    "tags": []
   },
   "source": [
    "# Pathway activity inference"
   ]
  },
  {
   "cell_type": "markdown",
   "id": "725331ff",
   "metadata": {},
   "source": [
    "## Loading packages\n",
    "\n",
    "First, we need to load the relevant packages, `scanpy` to handle scRNA-seq data\n",
    "and `decoupler` to use statistical methods."
   ]
  },
  {
   "cell_type": "code",
   "execution_count": null,
   "id": "84083cdb",
   "metadata": {},
   "outputs": [],
   "source": [
    "# %pip install decoupler\n",
    "# %pip install omnipath\n",
    "%pip install tabulate"
   ]
  },
  {
   "cell_type": "code",
   "execution_count": null,
   "id": "77f2e656",
   "metadata": {},
   "outputs": [],
   "source": [
    "import scanpy as sc\n",
    "import decoupler as dc\n",
    "\n",
    "# Plotting options, change to your liking\n",
    "sc.settings.set_figure_params(dpi=200, frameon=False)\n",
    "sc.set_figure_params(dpi=200)\n",
    "sc.set_figure_params(figsize=(4, 4)) "
   ]
  },
  {
   "cell_type": "markdown",
   "id": "ee3c0fa0",
   "metadata": {},
   "source": [
    "## Loading the data\n",
    "\n",
    "We can download the data easily using `scanpy`:"
   ]
  },
  {
   "cell_type": "code",
   "execution_count": null,
   "id": "ae6ca256",
   "metadata": {},
   "outputs": [],
   "source": [
    "adata = sc.datasets.pbmc3k_processed()\n",
    "adata"
   ]
  },
  {
   "cell_type": "markdown",
   "id": "858395e0",
   "metadata": {},
   "source": [
    "We can visualize the different cell types in it:"
   ]
  },
  {
   "cell_type": "code",
   "execution_count": null,
   "id": "fb0ca29b",
   "metadata": {},
   "outputs": [],
   "source": [
    "sc.pl.umap(adata, color='louvain')"
   ]
  },
  {
   "cell_type": "markdown",
   "id": "f03c5edd",
   "metadata": {},
   "source": [
    "## PROGENy model\n",
    "\n",
    "[PROGENy](https://saezlab.github.io/progeny/) is a comprehensive resource containing a curated collection of pathways and their target genes, with weights for each interaction.\n",
    "For this example we will use the human weights (other organisms are available) and we will use the top 500 responsive genes ranked by p-value. Here is a brief description of each pathway:\n",
    "\n",
    "- **Androgen**: involved in the growth and development of the male reproductive organs.\n",
    "- **EGFR**: regulates growth, survival, migration, apoptosis, proliferation, and differentiation in mammalian cells\n",
    "- **Estrogen**: promotes the growth and development of the female reproductive organs.\n",
    "- **Hypoxia**: promotes angiogenesis and metabolic reprogramming when O2 levels are low.\n",
    "- **JAK-STAT**: involved in immunity, cell division, cell death, and tumor formation.\n",
    "- **MAPK**: integrates external signals and promotes cell growth and proliferation.\n",
    "- **NFkB**: regulates immune response, cytokine production and cell survival.\n",
    "- **p53**: regulates cell cycle, apoptosis, DNA repair and tumor suppression.\n",
    "- **PI3K**: promotes growth and proliferation.\n",
    "- **TGFb**: involved in development, homeostasis, and repair of most tissues.\n",
    "- **TNFa**: mediates haematopoiesis, immune surveillance, tumour regression and protection from infection.\n",
    "- **Trail**: induces apoptosis.\n",
    "- **VEGF**: mediates angiogenesis, vascular permeability, and cell migration.\n",
    "- **WNT**: regulates organ morphogenesis during development and tissue repair.\n",
    "\n",
    "To access it we can use `decoupler`."
   ]
  },
  {
   "cell_type": "code",
   "execution_count": null,
   "id": "47d97d40",
   "metadata": {},
   "outputs": [],
   "source": [
    "progeny = dc.get_progeny(organism='human', top=500)\n",
    "progeny"
   ]
  },
  {
   "cell_type": "markdown",
   "id": "8c484c2b",
   "metadata": {},
   "source": [
    "## Activity inference with multivariate linear model (MLM)\n",
    "\n",
    "To infer pathway enrichment scores we will run the multivariate linear model (`mlm`) method. For each cell in our dataset (`adata`), it fits a linear model that predicts the observed gene expression based on all pathways' Pathway-Gene interactions weights.\n",
    "Once fitted, the obtained t-values of the slopes are the scores. If it is positive, we interpret that the pathway is active and if it is negative we interpret that it is inactive.\n",
    "\n",
    "<img src=\"../mlm.png\" />\n",
    "\n",
    "To run `decoupler` methods, we need an input matrix (`mat`), an input prior knowledge\n",
    "network/resource (`net`), and the name of the columns of `net` that we want to use."
   ]
  },
  {
   "cell_type": "code",
   "execution_count": null,
   "id": "86c1a9e4",
   "metadata": {},
   "outputs": [],
   "source": [
    "dc.run_mlm(\n",
    "    mat=adata,\n",
    "    net=progeny,\n",
    "    source='source',\n",
    "    target='target',\n",
    "    weight='weight',\n",
    "    verbose=True\n",
    ")"
   ]
  },
  {
   "cell_type": "markdown",
   "id": "fd4de645",
   "metadata": {},
   "source": [
    "The obtained scores (t-values)(`mlm_estimate`) and p-values (`mlm_pvals`) are stored in the `.obsm` key:"
   ]
  },
  {
   "cell_type": "code",
   "execution_count": null,
   "id": "e0de35ac",
   "metadata": {},
   "outputs": [],
   "source": [
    "adata.obsm['mlm_estimate']"
   ]
  },
  {
   "cell_type": "markdown",
   "id": "9b7335d2",
   "metadata": {},
   "source": [
    "**Note**: Each run of `run_mlm` overwrites what is inside of `mlm_estimate` and `mlm_pvals`. if you want to run `mlm` with other resources and still keep the activities inside the same `AnnData` object, you can store the results in any other key in `.obsm` with different names, for example:"
   ]
  },
  {
   "cell_type": "code",
   "execution_count": null,
   "id": "33a5f7e6",
   "metadata": {},
   "outputs": [],
   "source": [
    "adata.obsm['progeny_mlm_estimate'] = adata.obsm['mlm_estimate'].copy()\n",
    "adata.obsm['progeny_mlm_pvals'] = adata.obsm['mlm_pvals'].copy()\n",
    "adata"
   ]
  },
  {
   "cell_type": "markdown",
   "id": "8c76b5af",
   "metadata": {},
   "source": [
    "## Visualization\n",
    "\n",
    "To visualize the obtained scores, we can re-use many of `scanpy`'s plotting functions.\n",
    "First though, we need to extract the activities from the `adata` object."
   ]
  },
  {
   "cell_type": "code",
   "execution_count": null,
   "id": "2cbc7443",
   "metadata": {},
   "outputs": [],
   "source": [
    "acts = dc.get_acts(adata, obsm_key='mlm_estimate')\n",
    "acts"
   ]
  },
  {
   "cell_type": "markdown",
   "id": "d058e225",
   "metadata": {},
   "source": [
    "`dc.get_acts` returns a new `AnnData` object which holds the obtained activities in its `.X` attribute, allowing us to re-use many `scanpy` functions, for example let's visualise the Trail pathway:"
   ]
  },
  {
   "cell_type": "code",
   "execution_count": null,
   "id": "d64a2bfb",
   "metadata": {},
   "outputs": [],
   "source": [
    "sc.pl.umap(acts, color=['Trail', 'louvain'], cmap='RdBu_r', vcenter=0)\n",
    "sc.pl.violin(acts, keys=['Trail'], groupby='louvain', rotation=90)"
   ]
  },
  {
   "cell_type": "markdown",
   "id": "a5b41d33",
   "metadata": {},
   "source": [
    "It seem that in B cells, the pathway Trail, associated with apoptosis, is more active."
   ]
  },
  {
   "cell_type": "markdown",
   "id": "f6a79fba",
   "metadata": {},
   "source": [
    "## Exploration\n",
    "\n",
    "We can visualize which pathways are more active in each cell type:"
   ]
  },
  {
   "cell_type": "code",
   "execution_count": null,
   "id": "a8f39a6e-05d0-4e9a-979b-a441cde1c181",
   "metadata": {},
   "outputs": [],
   "source": [
    "sc.pl.matrixplot(acts, var_names=acts.var_names, groupby='louvain', dendrogram=True, standard_scale='var',\n",
    "                 colorbar_title='Z-scaled scores', cmap='RdBu_r')"
   ]
  },
  {
   "cell_type": "markdown",
   "id": "6721a6ca",
   "metadata": {},
   "source": [
    "In this specific example, we can observe that EGFR to be more active in Megakaryocytes, and that Trail is more active in B cells.\n",
    "\n",
    "Finally, we can check individual pathways by plotting their distributions:"
   ]
  },
  {
   "cell_type": "code",
   "execution_count": null,
   "id": "4a82288b-c715-4412-81ce-d23cde562e4a",
   "metadata": {},
   "outputs": [],
   "source": [
    "sc.pl.violin(acts, keys=['EGFR'], groupby='louvain', rotation=90)"
   ]
  },
  {
   "cell_type": "code",
   "execution_count": null,
   "id": "4ecc4233",
   "metadata": {},
   "outputs": [],
   "source": [
    "acts.obsm['mlm_estimate'].head()"
   ]
  },
  {
   "cell_type": "code",
   "execution_count": null,
   "id": "b44bc9c0",
   "metadata": {},
   "outputs": [],
   "source": [
    "acts.obsm['mlm_pvals'].head()"
   ]
  },
  {
   "cell_type": "code",
   "execution_count": null,
   "id": "0bca7d3b",
   "metadata": {},
   "outputs": [],
   "source": [
    "import pandas as pd\n",
    "from sklearn.preprocessing import StandardScaler\n",
    "\n",
    "# Extract the data matrix for the selected variables\n",
    "data = acts[:, acts.var_names].X  # Use acts.var_names for all variables\n",
    "\n",
    "# Standardize the data (Z-scaling across variables)\n",
    "scaler = StandardScaler()\n",
    "z_scaled_data = scaler.fit_transform(data)\n",
    "\n",
    "# Convert to a DataFrame for easier manipulation\n",
    "z_scaled_df = pd.DataFrame(\n",
    "    z_scaled_data, \n",
    "    index=acts.obs.index, \n",
    "    columns=acts.var_names\n",
    ")\n",
    "\n",
    "# Add the 'louvain' column to group by cell type\n",
    "z_scaled_df['louvain'] = acts.obs['louvain']\n",
    "\n",
    "# Group by 'louvain' and compute the mean Z-scaled scores\n",
    "z_scaled_grouped = z_scaled_df.groupby('louvain').mean()\n",
    "\n",
    "# Display the Z-scaled scores\n",
    "print(z_scaled_grouped)"
   ]
  },
  {
   "cell_type": "code",
   "execution_count": null,
   "id": "fa7eca0e",
   "metadata": {},
   "outputs": [],
   "source": [
    "from tabulate import tabulate\n",
    "\n",
    "# Convert the DataFrame to a Markdown table\n",
    "markdown_table = tabulate(z_scaled_grouped, headers='keys', tablefmt='pipe')\n",
    "\n",
    "# Print the Markdown table\n",
    "print(markdown_table)"
   ]
  }
 ],
 "metadata": {
  "kernelspec": {
   "display_name": "cell2sentence_env",
   "language": "python",
   "name": "python3"
  },
  "language_info": {
   "codemirror_mode": {
    "name": "ipython",
    "version": 3
   },
   "file_extension": ".py",
   "mimetype": "text/x-python",
   "name": "python",
   "nbconvert_exporter": "python",
   "pygments_lexer": "ipython3",
   "version": "3.8.20"
  }
 },
 "nbformat": 4,
 "nbformat_minor": 5
}
